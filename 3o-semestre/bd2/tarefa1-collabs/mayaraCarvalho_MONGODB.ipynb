{
  "nbformat": 4,
  "nbformat_minor": 0,
  "metadata": {
    "colab": {
      "provenance": []
    },
    "kernelspec": {
      "name": "python3",
      "display_name": "Python 3"
    },
    "language_info": {
      "name": "python"
    }
  },
  "cells": [
    {
      "cell_type": "markdown",
      "source": [
        "**ATIVIDADE 2 - MONGODB**\n",
        "\n",
        "-Fazer a modelagem da entidade Usuário usando no-sql. Usuário possui os atributos: Nome, email, password e lista de produtos favoritos.\n",
        "\n",
        "-Criar uma representação json no python e gerar o banco de dados usando o ambiente colab.\n",
        "\n",
        "-Implementar as operações CRUD.\n",
        "\n",
        "-Implementar o filtro de busca por usuários que contém na lista de favoritos o produto Notebook AZ."
      ],
      "metadata": {
        "id": "6Ki98sdjzCXP"
      }
    },
    {
      "cell_type": "code",
      "execution_count": 82,
      "metadata": {
        "colab": {
          "base_uri": "https://localhost:8080/"
        },
        "id": "vanI5ZNytagN",
        "outputId": "6b496f56-7d7a-4956-c808-d9002fdf1048"
      },
      "outputs": [
        {
          "output_type": "stream",
          "name": "stdout",
          "text": [
            "Drive already mounted at /content/gdrive; to attempt to forcibly remount, call drive.mount(\"/content/gdrive\", force_remount=True).\n"
          ]
        }
      ],
      "source": [
        "from google.colab import drive\n",
        "\n",
        "drive.mount('/content/gdrive')"
      ]
    },
    {
      "cell_type": "code",
      "source": [
        "# criar a pasta \"data\" no Drive para armazenar o arquivo csv.\n",
        "!mkdir /content/gdrive/MyDrive/data\n",
        "\n",
        "# verificar se o arquivo foi baixado:\n",
        "!ls /content/gdrive/MyDrive/data"
      ],
      "metadata": {
        "colab": {
          "base_uri": "https://localhost:8080/"
        },
        "id": "pZ55WbiEx5XI",
        "outputId": "e931edcf-c1d9-4baa-f53d-d20bd5621e39"
      },
      "execution_count": null,
      "outputs": [
        {
          "output_type": "stream",
          "name": "stdout",
          "text": [
            "mkdir: cannot create directory ‘/content/gdrive/MyDrive/data’: File exists\n"
          ]
        }
      ]
    },
    {
      "cell_type": "code",
      "source": [
        "# instalação do mongodb\n",
        "!apt install mongodb >log\n",
        "\n",
        "# iniciar o serviço\n",
        "!service mongodb start"
      ],
      "metadata": {
        "colab": {
          "base_uri": "https://localhost:8080/"
        },
        "id": "75PRJy8Ix5fA",
        "outputId": "477274ba-f402-4d74-d5e1-19e14d83a5bf"
      },
      "execution_count": null,
      "outputs": [
        {
          "output_type": "stream",
          "name": "stdout",
          "text": [
            "\n",
            "WARNING: apt does not have a stable CLI interface. Use with caution in scripts.\n",
            "\n",
            " * Starting database mongodb\n",
            "   ...done.\n"
          ]
        }
      ]
    },
    {
      "cell_type": "code",
      "source": [
        "# Instaling PyMongo, this is the interface to connect to MongoDB with Python\n",
        "! python -m pip install pymongo==3.7.2"
      ],
      "metadata": {
        "colab": {
          "base_uri": "https://localhost:8080/"
        },
        "id": "ntbPIFsHx5r4",
        "outputId": "9c33a2b1-f11a-43e3-b5a9-95494745d807"
      },
      "execution_count": null,
      "outputs": [
        {
          "output_type": "stream",
          "name": "stdout",
          "text": [
            "Looking in indexes: https://pypi.org/simple, https://us-python.pkg.dev/colab-wheels/public/simple/\n",
            "Requirement already satisfied: pymongo==3.7.2 in /usr/local/lib/python3.9/dist-packages (3.7.2)\n"
          ]
        }
      ]
    },
    {
      "cell_type": "code",
      "source": [
        "#IMPORTANDO O PYMONGO\n",
        "import pymongo\n",
        "from pymongo import MongoClient\n"
      ],
      "metadata": {
        "id": "8XhYY9P1yeoZ"
      },
      "execution_count": null,
      "outputs": []
    },
    {
      "cell_type": "code",
      "source": [
        "#INICIANDO UM CLIENT PRA CONECTAR COM O SERVIDOR DO MONGO\n",
        "client = MongoClient()\n",
        "client.stats"
      ],
      "metadata": {
        "colab": {
          "base_uri": "https://localhost:8080/"
        },
        "id": "aGgo7XFDyj94",
        "outputId": "eea2ede9-2154-454f-8b4b-14afae2e5b57"
      },
      "execution_count": null,
      "outputs": [
        {
          "output_type": "execute_result",
          "data": {
            "text/plain": [
              "Database(MongoClient(host=['localhost:27017'], document_class=dict, tz_aware=False, connect=True), 'stats')"
            ]
          },
          "metadata": {},
          "execution_count": 77
        }
      ]
    },
    {
      "cell_type": "code",
      "source": [
        "#CRIA A DATA BASE USUARIO\n",
        "db = client.usuario"
      ],
      "metadata": {
        "id": "W6CmyIMK0Csd"
      },
      "execution_count": 92,
      "outputs": []
    },
    {
      "cell_type": "code",
      "source": [
        "user = {\n",
        "    \"nome\": \"Mayara S Carvalho\",\n",
        "    \"email\": \"maya.spieker@gmail.com\",\n",
        "    \"password\": \"mayara123\",\n",
        "    \"favoritos\": [{\n",
        "                  \"produto\": \"Notebook Lenovo IdeaPad3\"\n",
        "    }]\n",
        "}, {\n",
        "    \"nome\": \"Larissa\",\n",
        "    \"email\": \"larissacavalheiro@gmail.com\",\n",
        "    \"password\": \"larissa123\",\n",
        "    \"favoritos\": [{\n",
        "        \"produto\": \"Patinete eletrico Xiaomi\"\n",
        "    }]\n",
        "}, {\n",
        "    \"nome\": \"Gabriela Marques\",\n",
        "    \"email\": \"gabiemark@gmail.com\",\n",
        "    \"password\": \"gabri123ela\",\n",
        "    \"favoritos\": [{\n",
        "        \"produto\": \"Mark Photocard\"\n",
        "    }]\n",
        "}"
      ],
      "metadata": {
        "id": "3OfRtWOH2dT2"
      },
      "execution_count": 93,
      "outputs": []
    },
    {
      "cell_type": "code",
      "source": [
        "db.usuario.insert_many(user)"
      ],
      "metadata": {
        "colab": {
          "base_uri": "https://localhost:8080/"
        },
        "id": "3EnPhCav20_M",
        "outputId": "1beae3d0-ff39-4966-8a11-af77d1f1686f"
      },
      "execution_count": 94,
      "outputs": [
        {
          "output_type": "execute_result",
          "data": {
            "text/plain": [
              "<pymongo.results.InsertManyResult at 0x7f0bbe616640>"
            ]
          },
          "metadata": {},
          "execution_count": 94
        }
      ]
    },
    {
      "cell_type": "code",
      "source": [
        "list(db.usuario.find())"
      ],
      "metadata": {
        "colab": {
          "base_uri": "https://localhost:8080/"
        },
        "id": "4FD_6TX-2_wv",
        "outputId": "31f2c9bc-d746-4820-cd2e-018424b9be68"
      },
      "execution_count": 95,
      "outputs": [
        {
          "output_type": "execute_result",
          "data": {
            "text/plain": [
              "[{'_id': ObjectId('641ba46dcb1adb012c68aea3'),\n",
              "  'nome': 'Mayara S Carvalho',\n",
              "  'email': 'maya.spieker@gmail.com',\n",
              "  'password': 'mayara123',\n",
              "  'favoritos': [{'produto': 'Notebook Lenovo IdeaPad3'}]},\n",
              " {'_id': ObjectId('641ba46dcb1adb012c68aea4'),\n",
              "  'nome': 'Larissa',\n",
              "  'email': 'larissacavalheiro@gmail.com',\n",
              "  'password': 'larissa123',\n",
              "  'favoritos': [{'produto': 'Patinete eletrico Xiaomi'}]},\n",
              " {'_id': ObjectId('641ba46dcb1adb012c68aea5'),\n",
              "  'nome': 'Gabriela Marques',\n",
              "  'email': 'gabiemark@gmail.com',\n",
              "  'password': 'gabri123ela',\n",
              "  'favoritos': [{'produto': 'Mark Photocard'}]}]"
            ]
          },
          "metadata": {},
          "execution_count": 95
        }
      ]
    },
    {
      "cell_type": "code",
      "source": [
        "update_result = db.usuario.update_one(\n",
        "                                        {'nome': 'Mayara S Carvalho'}, {'$set': {'email': 'mayara@gmail.com'}} )"
      ],
      "metadata": {
        "id": "HUyGLhIn31Cj"
      },
      "execution_count": 96,
      "outputs": []
    },
    {
      "cell_type": "code",
      "source": [
        "list(db.usuario.find({'nome' : 'Mayara S Carvalho'}))"
      ],
      "metadata": {
        "colab": {
          "base_uri": "https://localhost:8080/"
        },
        "id": "FmUFWv1y5PbX",
        "outputId": "e3d6bcfc-3d6e-4408-d676-5400df82d5ca"
      },
      "execution_count": 97,
      "outputs": [
        {
          "output_type": "execute_result",
          "data": {
            "text/plain": [
              "[{'_id': ObjectId('641ba46dcb1adb012c68aea3'),\n",
              "  'nome': 'Mayara S Carvalho',\n",
              "  'email': 'mayara@gmail.com',\n",
              "  'password': 'mayara123',\n",
              "  'favoritos': [{'produto': 'Notebook Lenovo IdeaPad3'}]}]"
            ]
          },
          "metadata": {},
          "execution_count": 97
        }
      ]
    },
    {
      "cell_type": "code",
      "source": [
        "db.usuario.delete_one({'nome': 'Gabriela Marques'})"
      ],
      "metadata": {
        "colab": {
          "base_uri": "https://localhost:8080/"
        },
        "id": "CcNcZtbf5p4X",
        "outputId": "1e213156-3ee2-42d1-9286-ee953d6cca24"
      },
      "execution_count": 98,
      "outputs": [
        {
          "output_type": "execute_result",
          "data": {
            "text/plain": [
              "<pymongo.results.DeleteResult at 0x7f0bbe62ed00>"
            ]
          },
          "metadata": {},
          "execution_count": 98
        }
      ]
    },
    {
      "cell_type": "code",
      "source": [
        "db.usuario.update_one({'nome': 'Larissa'}, {'$set': {'favoritos':{'produto': 'Notebook AZ'}}})"
      ],
      "metadata": {
        "colab": {
          "base_uri": "https://localhost:8080/"
        },
        "id": "Pd1rjHnL6IOZ",
        "outputId": "caf12088-04c4-4d25-d713-21400e9cbfcd"
      },
      "execution_count": 99,
      "outputs": [
        {
          "output_type": "execute_result",
          "data": {
            "text/plain": [
              "<pymongo.results.UpdateResult at 0x7f0bbe612500>"
            ]
          },
          "metadata": {},
          "execution_count": 99
        }
      ]
    },
    {
      "cell_type": "code",
      "source": [
        "list(db.usuario.find({'favoritos.produto': 'Notebook AZ'}))"
      ],
      "metadata": {
        "colab": {
          "base_uri": "https://localhost:8080/"
        },
        "id": "PTA5-XKG64Nx",
        "outputId": "c919b034-f458-48a4-fef2-94ff8639db0c"
      },
      "execution_count": 100,
      "outputs": [
        {
          "output_type": "execute_result",
          "data": {
            "text/plain": [
              "[{'_id': ObjectId('641ba46dcb1adb012c68aea4'),\n",
              "  'nome': 'Larissa',\n",
              "  'email': 'larissacavalheiro@gmail.com',\n",
              "  'password': 'larissa123',\n",
              "  'favoritos': {'produto': 'Notebook AZ'}}]"
            ]
          },
          "metadata": {},
          "execution_count": 100
        }
      ]
    },
    {
      "cell_type": "code",
      "source": [
        "list(db.usuario.find())"
      ],
      "metadata": {
        "colab": {
          "base_uri": "https://localhost:8080/"
        },
        "id": "KGdY0Ulv7VKH",
        "outputId": "e01ee557-71c2-4a6e-b5b3-56a8012cd624"
      },
      "execution_count": 101,
      "outputs": [
        {
          "output_type": "execute_result",
          "data": {
            "text/plain": [
              "[{'_id': ObjectId('641ba46dcb1adb012c68aea3'),\n",
              "  'nome': 'Mayara S Carvalho',\n",
              "  'email': 'mayara@gmail.com',\n",
              "  'password': 'mayara123',\n",
              "  'favoritos': [{'produto': 'Notebook Lenovo IdeaPad3'}]},\n",
              " {'_id': ObjectId('641ba46dcb1adb012c68aea4'),\n",
              "  'nome': 'Larissa',\n",
              "  'email': 'larissacavalheiro@gmail.com',\n",
              "  'password': 'larissa123',\n",
              "  'favoritos': {'produto': 'Notebook AZ'}}]"
            ]
          },
          "metadata": {},
          "execution_count": 101
        }
      ]
    },
    {
      "cell_type": "code",
      "source": [
        "db.usuario.drop()"
      ],
      "metadata": {
        "id": "G8oaXDeq-HiA"
      },
      "execution_count": 88,
      "outputs": []
    }
  ]
}